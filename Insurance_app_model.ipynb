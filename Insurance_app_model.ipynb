{
 "cells": [
  {
   "cell_type": "code",
   "execution_count": 1,
   "id": "4db2e4ab",
   "metadata": {},
   "outputs": [],
   "source": [
    "import pandas as pd\n",
    "import numpy as np\n",
    "from sklearn.metrics import roc_auc_score, log_loss\n",
    "import matplotlib.pyplot as plt\n",
    "import seaborn as sns\n",
    "from scipy import stats\n",
    "from scipy.stats import spearmanr\n",
    "from scipy.stats import chi2_contingency\n",
    "from sklearn.model_selection import StratifiedKFold\n",
    "import xgboost as xgb\n",
    "import catboost as cat_\n",
    "import seaborn as sns\n",
    "import lightgbm as lgb\n",
    "from sklearn.impute import SimpleImputer as Imputer\n",
    "from sklearn import preprocessing\n",
    "import re\n",
    "import timeit\n",
    "import random\n",
    "random.seed(3)"
   ]
  },
  {
   "cell_type": "code",
   "execution_count": 2,
   "id": "6f19013f",
   "metadata": {},
   "outputs": [],
   "source": [
    "# Importing data sets\n",
    "train_data = pd.read_csv(\"datasets/train_data.csv\")\n",
    "test_data = pd.read_csv(\"datasets/test_data.csv\")"
   ]
  },
  {
   "cell_type": "markdown",
   "id": "40fca448",
   "metadata": {},
   "source": [
    "### Merging the train and test data for cleaning and analysis"
   ]
  },
  {
   "cell_type": "code",
   "execution_count": 3,
   "id": "06f6b403",
   "metadata": {},
   "outputs": [],
   "source": [
    "ntrain = train_data.shape[0] \n",
    "ntest = test_data.shape[0]\n",
    "dataset = pd.concat((train_data, test_data), sort=False).reset_index(drop=True)"
   ]
  },
  {
   "cell_type": "code",
   "execution_count": 4,
   "id": "2b7ccdcb",
   "metadata": {},
   "outputs": [
    {
     "data": {
      "text/html": [
       "<div>\n",
       "<style scoped>\n",
       "    .dataframe tbody tr th:only-of-type {\n",
       "        vertical-align: middle;\n",
       "    }\n",
       "\n",
       "    .dataframe tbody tr th {\n",
       "        vertical-align: top;\n",
       "    }\n",
       "\n",
       "    .dataframe thead th {\n",
       "        text-align: right;\n",
       "    }\n",
       "</style>\n",
       "<table border=\"1\" class=\"dataframe\">\n",
       "  <thead>\n",
       "    <tr style=\"text-align: right;\">\n",
       "      <th></th>\n",
       "      <th>Customer Id</th>\n",
       "      <th>YearOfObservation</th>\n",
       "      <th>Insured_Period</th>\n",
       "      <th>Residential</th>\n",
       "      <th>Building_Painted</th>\n",
       "      <th>Building_Fenced</th>\n",
       "      <th>Garden</th>\n",
       "      <th>Settlement</th>\n",
       "      <th>Building Dimension</th>\n",
       "      <th>Building_Type</th>\n",
       "      <th>Date_of_Occupancy</th>\n",
       "      <th>NumberOfWindows</th>\n",
       "      <th>Geo_Code</th>\n",
       "      <th>Claim</th>\n",
       "    </tr>\n",
       "  </thead>\n",
       "  <tbody>\n",
       "    <tr>\n",
       "      <th>0</th>\n",
       "      <td>H14663</td>\n",
       "      <td>2013</td>\n",
       "      <td>1.0</td>\n",
       "      <td>0</td>\n",
       "      <td>N</td>\n",
       "      <td>V</td>\n",
       "      <td>V</td>\n",
       "      <td>U</td>\n",
       "      <td>290.0</td>\n",
       "      <td>1</td>\n",
       "      <td>1960.0</td>\n",
       "      <td>.</td>\n",
       "      <td>1053</td>\n",
       "      <td>0.0</td>\n",
       "    </tr>\n",
       "    <tr>\n",
       "      <th>1</th>\n",
       "      <td>H2037</td>\n",
       "      <td>2015</td>\n",
       "      <td>1.0</td>\n",
       "      <td>0</td>\n",
       "      <td>V</td>\n",
       "      <td>N</td>\n",
       "      <td>O</td>\n",
       "      <td>R</td>\n",
       "      <td>490.0</td>\n",
       "      <td>1</td>\n",
       "      <td>1850.0</td>\n",
       "      <td>4</td>\n",
       "      <td>1053</td>\n",
       "      <td>0.0</td>\n",
       "    </tr>\n",
       "    <tr>\n",
       "      <th>2</th>\n",
       "      <td>H3802</td>\n",
       "      <td>2014</td>\n",
       "      <td>1.0</td>\n",
       "      <td>0</td>\n",
       "      <td>N</td>\n",
       "      <td>V</td>\n",
       "      <td>V</td>\n",
       "      <td>U</td>\n",
       "      <td>595.0</td>\n",
       "      <td>1</td>\n",
       "      <td>1960.0</td>\n",
       "      <td>.</td>\n",
       "      <td>1053</td>\n",
       "      <td>0.0</td>\n",
       "    </tr>\n",
       "    <tr>\n",
       "      <th>3</th>\n",
       "      <td>H3834</td>\n",
       "      <td>2013</td>\n",
       "      <td>1.0</td>\n",
       "      <td>0</td>\n",
       "      <td>V</td>\n",
       "      <td>V</td>\n",
       "      <td>V</td>\n",
       "      <td>U</td>\n",
       "      <td>2840.0</td>\n",
       "      <td>1</td>\n",
       "      <td>1960.0</td>\n",
       "      <td>.</td>\n",
       "      <td>1053</td>\n",
       "      <td>0.0</td>\n",
       "    </tr>\n",
       "    <tr>\n",
       "      <th>4</th>\n",
       "      <td>H5053</td>\n",
       "      <td>2014</td>\n",
       "      <td>1.0</td>\n",
       "      <td>0</td>\n",
       "      <td>V</td>\n",
       "      <td>N</td>\n",
       "      <td>O</td>\n",
       "      <td>R</td>\n",
       "      <td>680.0</td>\n",
       "      <td>1</td>\n",
       "      <td>1800.0</td>\n",
       "      <td>3</td>\n",
       "      <td>1053</td>\n",
       "      <td>0.0</td>\n",
       "    </tr>\n",
       "  </tbody>\n",
       "</table>\n",
       "</div>"
      ],
      "text/plain": [
       "  Customer Id  YearOfObservation  Insured_Period  Residential  \\\n",
       "0      H14663               2013             1.0            0   \n",
       "1       H2037               2015             1.0            0   \n",
       "2       H3802               2014             1.0            0   \n",
       "3       H3834               2013             1.0            0   \n",
       "4       H5053               2014             1.0            0   \n",
       "\n",
       "  Building_Painted Building_Fenced Garden Settlement  Building Dimension  \\\n",
       "0                N               V      V          U               290.0   \n",
       "1                V               N      O          R               490.0   \n",
       "2                N               V      V          U               595.0   \n",
       "3                V               V      V          U              2840.0   \n",
       "4                V               N      O          R               680.0   \n",
       "\n",
       "   Building_Type  Date_of_Occupancy NumberOfWindows Geo_Code  Claim  \n",
       "0              1             1960.0               .     1053    0.0  \n",
       "1              1             1850.0               4     1053    0.0  \n",
       "2              1             1960.0               .     1053    0.0  \n",
       "3              1             1960.0               .     1053    0.0  \n",
       "4              1             1800.0               3     1053    0.0  "
      ]
     },
     "execution_count": 4,
     "metadata": {},
     "output_type": "execute_result"
    }
   ],
   "source": [
    "dataset.head()"
   ]
  },
  {
   "cell_type": "code",
   "execution_count": 11,
   "id": "56170846",
   "metadata": {},
   "outputs": [
    {
     "data": {
      "text/plain": [
       "Index(['Customer Id', 'YearOfObservation', 'Insured_Period', 'Residential',\n",
       "       'Building_Painted', 'Building_Fenced', 'Garden', 'Settlement',\n",
       "       'Building Dimension', 'Building_Type', 'Date_of_Occupancy',\n",
       "       'NumberOfWindows', 'Geo_Code', 'Claim'],\n",
       "      dtype='object')"
      ]
     },
     "execution_count": 11,
     "metadata": {},
     "output_type": "execute_result"
    }
   ],
   "source": [
    "dataset.columns"
   ]
  },
  {
   "cell_type": "code",
   "execution_count": 19,
   "id": "a1518f33",
   "metadata": {},
   "outputs": [
    {
     "data": {
      "text/plain": [
       "1545.0"
      ]
     },
     "execution_count": 19,
     "metadata": {},
     "output_type": "execute_result"
    }
   ],
   "source": [
    "dataset.Date_of_Occupancy.min()"
   ]
  },
  {
   "cell_type": "code",
   "execution_count": 6,
   "id": "7ac24c6d",
   "metadata": {},
   "outputs": [],
   "source": [
    "y_train = train_data['Claim']"
   ]
  },
  {
   "cell_type": "code",
   "execution_count": 7,
   "id": "c37a7fb7",
   "metadata": {},
   "outputs": [
    {
     "data": {
      "text/plain": [
       "array([0, 1], dtype=int64)"
      ]
     },
     "execution_count": 7,
     "metadata": {},
     "output_type": "execute_result"
    }
   ],
   "source": [
    "y_train.unique()"
   ]
  },
  {
   "cell_type": "code",
   "execution_count": 8,
   "id": "26b7fe4a",
   "metadata": {},
   "outputs": [
    {
     "data": {
      "text/plain": [
       "Customer Id              0\n",
       "YearOfObservation        0\n",
       "Insured_Period           0\n",
       "Residential              0\n",
       "Building_Painted         0\n",
       "Building_Fenced          0\n",
       "Garden                  11\n",
       "Settlement               0\n",
       "Building Dimension     119\n",
       "Building_Type            0\n",
       "Date_of_Occupancy     1236\n",
       "NumberOfWindows          0\n",
       "Geo_Code               115\n",
       "Claim                 3069\n",
       "dtype: int64"
      ]
     },
     "execution_count": 8,
     "metadata": {},
     "output_type": "execute_result"
    }
   ],
   "source": [
    "dataset.isnull().sum()"
   ]
  },
  {
   "cell_type": "code",
   "execution_count": 9,
   "id": "eaddc1b8",
   "metadata": {},
   "outputs": [
    {
     "name": "stdout",
     "output_type": "stream",
     "text": [
      "<class 'pandas.core.frame.DataFrame'>\n",
      "RangeIndex: 10229 entries, 0 to 10228\n",
      "Data columns (total 14 columns):\n",
      " #   Column              Non-Null Count  Dtype  \n",
      "---  ------              --------------  -----  \n",
      " 0   Customer Id         10229 non-null  object \n",
      " 1   YearOfObservation   10229 non-null  int64  \n",
      " 2   Insured_Period      10229 non-null  float64\n",
      " 3   Residential         10229 non-null  int64  \n",
      " 4   Building_Painted    10229 non-null  object \n",
      " 5   Building_Fenced     10229 non-null  object \n",
      " 6   Garden              10218 non-null  object \n",
      " 7   Settlement          10229 non-null  object \n",
      " 8   Building Dimension  10110 non-null  float64\n",
      " 9   Building_Type       10229 non-null  int64  \n",
      " 10  Date_of_Occupancy   8993 non-null   float64\n",
      " 11  NumberOfWindows     10229 non-null  object \n",
      " 12  Geo_Code            10114 non-null  object \n",
      " 13  Claim               7160 non-null   float64\n",
      "dtypes: float64(4), int64(3), object(7)\n",
      "memory usage: 1.1+ MB\n"
     ]
    }
   ],
   "source": [
    "dataset.info()"
   ]
  },
  {
   "cell_type": "code",
   "execution_count": 10,
   "id": "77026c48",
   "metadata": {},
   "outputs": [
    {
     "data": {
      "text/plain": [
       "array(['   .', '4', '3', '2', '5', '>=10', '6', '7', '9', '8', '1'],\n",
       "      dtype=object)"
      ]
     },
     "execution_count": 10,
     "metadata": {},
     "output_type": "execute_result"
    }
   ],
   "source": [
    "dataset.NumberOfWindows.unique()"
   ]
  },
  {
   "cell_type": "code",
   "execution_count": 11,
   "id": "fce17aca",
   "metadata": {},
   "outputs": [],
   "source": [
    "dataset = dataset.drop(['Customer Id','Geo_Code','Claim'],axis=1)"
   ]
  },
  {
   "cell_type": "code",
   "execution_count": 12,
   "id": "8283cb1e",
   "metadata": {},
   "outputs": [
    {
     "data": {
      "text/html": [
       "<div>\n",
       "<style scoped>\n",
       "    .dataframe tbody tr th:only-of-type {\n",
       "        vertical-align: middle;\n",
       "    }\n",
       "\n",
       "    .dataframe tbody tr th {\n",
       "        vertical-align: top;\n",
       "    }\n",
       "\n",
       "    .dataframe thead th {\n",
       "        text-align: right;\n",
       "    }\n",
       "</style>\n",
       "<table border=\"1\" class=\"dataframe\">\n",
       "  <thead>\n",
       "    <tr style=\"text-align: right;\">\n",
       "      <th></th>\n",
       "      <th>YearOfObservation</th>\n",
       "      <th>Insured_Period</th>\n",
       "      <th>Residential</th>\n",
       "      <th>Building_Painted</th>\n",
       "      <th>Building_Fenced</th>\n",
       "      <th>Garden</th>\n",
       "      <th>Settlement</th>\n",
       "      <th>Building Dimension</th>\n",
       "      <th>Building_Type</th>\n",
       "      <th>Date_of_Occupancy</th>\n",
       "      <th>NumberOfWindows</th>\n",
       "    </tr>\n",
       "  </thead>\n",
       "  <tbody>\n",
       "    <tr>\n",
       "      <th>0</th>\n",
       "      <td>2013</td>\n",
       "      <td>1.0</td>\n",
       "      <td>0</td>\n",
       "      <td>N</td>\n",
       "      <td>V</td>\n",
       "      <td>V</td>\n",
       "      <td>U</td>\n",
       "      <td>290.0</td>\n",
       "      <td>1</td>\n",
       "      <td>1960.0</td>\n",
       "      <td>.</td>\n",
       "    </tr>\n",
       "    <tr>\n",
       "      <th>1</th>\n",
       "      <td>2015</td>\n",
       "      <td>1.0</td>\n",
       "      <td>0</td>\n",
       "      <td>V</td>\n",
       "      <td>N</td>\n",
       "      <td>O</td>\n",
       "      <td>R</td>\n",
       "      <td>490.0</td>\n",
       "      <td>1</td>\n",
       "      <td>1850.0</td>\n",
       "      <td>4</td>\n",
       "    </tr>\n",
       "    <tr>\n",
       "      <th>2</th>\n",
       "      <td>2014</td>\n",
       "      <td>1.0</td>\n",
       "      <td>0</td>\n",
       "      <td>N</td>\n",
       "      <td>V</td>\n",
       "      <td>V</td>\n",
       "      <td>U</td>\n",
       "      <td>595.0</td>\n",
       "      <td>1</td>\n",
       "      <td>1960.0</td>\n",
       "      <td>.</td>\n",
       "    </tr>\n",
       "    <tr>\n",
       "      <th>3</th>\n",
       "      <td>2013</td>\n",
       "      <td>1.0</td>\n",
       "      <td>0</td>\n",
       "      <td>V</td>\n",
       "      <td>V</td>\n",
       "      <td>V</td>\n",
       "      <td>U</td>\n",
       "      <td>2840.0</td>\n",
       "      <td>1</td>\n",
       "      <td>1960.0</td>\n",
       "      <td>.</td>\n",
       "    </tr>\n",
       "    <tr>\n",
       "      <th>4</th>\n",
       "      <td>2014</td>\n",
       "      <td>1.0</td>\n",
       "      <td>0</td>\n",
       "      <td>V</td>\n",
       "      <td>N</td>\n",
       "      <td>O</td>\n",
       "      <td>R</td>\n",
       "      <td>680.0</td>\n",
       "      <td>1</td>\n",
       "      <td>1800.0</td>\n",
       "      <td>3</td>\n",
       "    </tr>\n",
       "  </tbody>\n",
       "</table>\n",
       "</div>"
      ],
      "text/plain": [
       "   YearOfObservation  Insured_Period  Residential Building_Painted  \\\n",
       "0               2013             1.0            0                N   \n",
       "1               2015             1.0            0                V   \n",
       "2               2014             1.0            0                N   \n",
       "3               2013             1.0            0                V   \n",
       "4               2014             1.0            0                V   \n",
       "\n",
       "  Building_Fenced Garden Settlement  Building Dimension  Building_Type  \\\n",
       "0               V      V          U               290.0              1   \n",
       "1               N      O          R               490.0              1   \n",
       "2               V      V          U               595.0              1   \n",
       "3               V      V          U              2840.0              1   \n",
       "4               N      O          R               680.0              1   \n",
       "\n",
       "   Date_of_Occupancy NumberOfWindows  \n",
       "0             1960.0               .  \n",
       "1             1850.0               4  \n",
       "2             1960.0               .  \n",
       "3             1960.0               .  \n",
       "4             1800.0               3  "
      ]
     },
     "execution_count": 12,
     "metadata": {},
     "output_type": "execute_result"
    }
   ],
   "source": [
    "dataset.head()"
   ]
  },
  {
   "cell_type": "code",
   "execution_count": 13,
   "id": "8d73ccca",
   "metadata": {},
   "outputs": [
    {
     "data": {
      "text/plain": [
       "array(['N', 'V'], dtype=object)"
      ]
     },
     "execution_count": 13,
     "metadata": {},
     "output_type": "execute_result"
    }
   ],
   "source": [
    "dataset.Building_Painted.unique()"
   ]
  },
  {
   "cell_type": "code",
   "execution_count": 14,
   "id": "d43827dc",
   "metadata": {},
   "outputs": [
    {
     "data": {
      "text/plain": [
       "array(['V', 'N'], dtype=object)"
      ]
     },
     "execution_count": 14,
     "metadata": {},
     "output_type": "execute_result"
    }
   ],
   "source": [
    "dataset.Building_Fenced.unique()"
   ]
  },
  {
   "cell_type": "code",
   "execution_count": 15,
   "id": "88ae705e",
   "metadata": {},
   "outputs": [
    {
     "data": {
      "text/plain": [
       "array(['V', 'O', nan], dtype=object)"
      ]
     },
     "execution_count": 15,
     "metadata": {},
     "output_type": "execute_result"
    }
   ],
   "source": [
    "dataset.Garden.unique()"
   ]
  },
  {
   "cell_type": "code",
   "execution_count": 16,
   "id": "af3c8cfc",
   "metadata": {},
   "outputs": [
    {
     "data": {
      "text/plain": [
       "array(['U', 'R'], dtype=object)"
      ]
     },
     "execution_count": 16,
     "metadata": {},
     "output_type": "execute_result"
    }
   ],
   "source": [
    "dataset.Settlement.unique()"
   ]
  },
  {
   "cell_type": "code",
   "execution_count": 17,
   "id": "8dcd5cbd",
   "metadata": {},
   "outputs": [],
   "source": [
    "dataset['Building_Painted'] = dataset['Building_Painted'].replace({'N':1, 'V':0})\n",
    "dataset['Building_Fenced'] = dataset['Building_Fenced'].replace({'V':0, 'N':1})\n",
    "dataset['Garden'] = dataset['Garden'].replace({'V':1, 'O':0})\n",
    "dataset['Settlement'] = dataset['Settlement'].replace({'U':0, 'R':1})\n",
    "dataset['NumberOfWindows'] =dataset['NumberOfWindows'].replace({'   .':0, '4':4, '3':3, '2':2, '5':5, '>=10':10, '6':6, '7':7, '9':9, '8':8, '1':1})"
   ]
  },
  {
   "cell_type": "code",
   "execution_count": 18,
   "id": "38928012",
   "metadata": {},
   "outputs": [
    {
     "name": "stdout",
     "output_type": "stream",
     "text": [
      "<class 'pandas.core.frame.DataFrame'>\n",
      "RangeIndex: 10229 entries, 0 to 10228\n",
      "Data columns (total 11 columns):\n",
      " #   Column              Non-Null Count  Dtype  \n",
      "---  ------              --------------  -----  \n",
      " 0   YearOfObservation   10229 non-null  int64  \n",
      " 1   Insured_Period      10229 non-null  float64\n",
      " 2   Residential         10229 non-null  int64  \n",
      " 3   Building_Painted    10229 non-null  int64  \n",
      " 4   Building_Fenced     10229 non-null  int64  \n",
      " 5   Garden              10218 non-null  float64\n",
      " 6   Settlement          10229 non-null  int64  \n",
      " 7   Building Dimension  10110 non-null  float64\n",
      " 8   Building_Type       10229 non-null  int64  \n",
      " 9   Date_of_Occupancy   8993 non-null   float64\n",
      " 10  NumberOfWindows     10229 non-null  int64  \n",
      "dtypes: float64(4), int64(7)\n",
      "memory usage: 879.2 KB\n"
     ]
    }
   ],
   "source": [
    "dataset.info()"
   ]
  },
  {
   "cell_type": "markdown",
   "id": "726cfea9",
   "metadata": {},
   "source": [
    "### Missing Valuse"
   ]
  },
  {
   "cell_type": "code",
   "execution_count": 19,
   "id": "5336520b",
   "metadata": {},
   "outputs": [],
   "source": [
    "le = preprocessing.LabelEncoder()\n",
    "for col in dataset.columns:\n",
    "    dataset[col] = le.fit_transform(dataset[col])"
   ]
  },
  {
   "cell_type": "code",
   "execution_count": 20,
   "id": "1d2f0804",
   "metadata": {},
   "outputs": [],
   "source": [
    "def fill_nulls(value):\n",
    "    cols_fill = ['Garden','Building Dimension', 'Date_of_Occupancy']\n",
    "    \n",
    "    if value == -9999:\n",
    "        for col in cols_fill:\n",
    "            dataset.loc[dataset[col].isnull(), col] = -9999\n",
    "    else : \n",
    "        for col in cols_fill:\n",
    "            dataset.loc[dataset[col].isnull(), col] = dataset[col].median()"
   ]
  },
  {
   "cell_type": "code",
   "execution_count": 21,
   "id": "80777a7e",
   "metadata": {},
   "outputs": [],
   "source": [
    "fill_nulls(-9999)"
   ]
  },
  {
   "cell_type": "code",
   "execution_count": 22,
   "id": "92d54c2f",
   "metadata": {},
   "outputs": [
    {
     "data": {
      "text/plain": [
       "YearOfObservation     0\n",
       "Insured_Period        0\n",
       "Residential           0\n",
       "Building_Painted      0\n",
       "Building_Fenced       0\n",
       "Garden                0\n",
       "Settlement            0\n",
       "Building Dimension    0\n",
       "Building_Type         0\n",
       "Date_of_Occupancy     0\n",
       "NumberOfWindows       0\n",
       "dtype: int64"
      ]
     },
     "execution_count": 22,
     "metadata": {},
     "output_type": "execute_result"
    }
   ],
   "source": [
    "dataset.isnull().sum()"
   ]
  },
  {
   "cell_type": "code",
   "execution_count": 23,
   "id": "73182eaa",
   "metadata": {},
   "outputs": [],
   "source": [
    "columns = ['YearOfObservation', 'Insured_Period', 'Residential',\n",
    "       'Building_Painted', 'Building_Fenced', 'Garden', 'Settlement',\n",
    "       'Building Dimension', 'Building_Type', 'Date_of_Occupancy','NumberOfWindows']"
   ]
  },
  {
   "cell_type": "markdown",
   "id": "7c74fbcb",
   "metadata": {},
   "source": [
    "### Scaling the dataset"
   ]
  },
  {
   "cell_type": "code",
   "execution_count": 24,
   "id": "8a0f4925",
   "metadata": {},
   "outputs": [],
   "source": [
    "# Use 3 features\n",
    "from sklearn.preprocessing import StandardScaler, MinMaxScaler, MaxAbsScaler, QuantileTransformer\n",
    "from sklearn.feature_selection import SelectKBest, f_classif\n",
    "df = SelectKBest(f_classif, k=3)\n",
    "df1 = StandardScaler()\n",
    "data_scale = df1.fit_transform(dataset) \n",
    "data = data_scale"
   ]
  },
  {
   "cell_type": "code",
   "execution_count": 25,
   "id": "47983bfe",
   "metadata": {},
   "outputs": [
    {
     "data": {
      "text/html": [
       "<div>\n",
       "<style scoped>\n",
       "    .dataframe tbody tr th:only-of-type {\n",
       "        vertical-align: middle;\n",
       "    }\n",
       "\n",
       "    .dataframe tbody tr th {\n",
       "        vertical-align: top;\n",
       "    }\n",
       "\n",
       "    .dataframe thead th {\n",
       "        text-align: right;\n",
       "    }\n",
       "</style>\n",
       "<table border=\"1\" class=\"dataframe\">\n",
       "  <thead>\n",
       "    <tr style=\"text-align: right;\">\n",
       "      <th></th>\n",
       "      <th>YearOfObservation</th>\n",
       "      <th>Insured_Period</th>\n",
       "      <th>Residential</th>\n",
       "      <th>Building_Painted</th>\n",
       "      <th>Building_Fenced</th>\n",
       "      <th>Garden</th>\n",
       "      <th>Settlement</th>\n",
       "      <th>Building Dimension</th>\n",
       "      <th>Building_Type</th>\n",
       "      <th>Date_of_Occupancy</th>\n",
       "      <th>NumberOfWindows</th>\n",
       "    </tr>\n",
       "  </thead>\n",
       "  <tbody>\n",
       "    <tr>\n",
       "      <th>0</th>\n",
       "      <td>-0.468486</td>\n",
       "      <td>0.374577</td>\n",
       "      <td>-0.625255</td>\n",
       "      <td>1.494642</td>\n",
       "      <td>-0.875247</td>\n",
       "      <td>0.867799</td>\n",
       "      <td>-0.875595</td>\n",
       "      <td>-1.104061</td>\n",
       "      <td>-1.287566</td>\n",
       "      <td>-0.457683</td>\n",
       "      <td>-0.766203</td>\n",
       "    </tr>\n",
       "    <tr>\n",
       "      <th>1</th>\n",
       "      <td>0.980167</td>\n",
       "      <td>0.374577</td>\n",
       "      <td>-0.625255</td>\n",
       "      <td>-0.669056</td>\n",
       "      <td>1.142535</td>\n",
       "      <td>-1.142327</td>\n",
       "      <td>1.142080</td>\n",
       "      <td>-0.867570</td>\n",
       "      <td>-1.287566</td>\n",
       "      <td>-2.742860</td>\n",
       "      <td>0.865757</td>\n",
       "    </tr>\n",
       "    <tr>\n",
       "      <th>2</th>\n",
       "      <td>0.255840</td>\n",
       "      <td>0.374577</td>\n",
       "      <td>-0.625255</td>\n",
       "      <td>1.494642</td>\n",
       "      <td>-0.875247</td>\n",
       "      <td>0.867799</td>\n",
       "      <td>-0.875595</td>\n",
       "      <td>-0.753090</td>\n",
       "      <td>-1.287566</td>\n",
       "      <td>-0.457683</td>\n",
       "      <td>-0.766203</td>\n",
       "    </tr>\n",
       "    <tr>\n",
       "      <th>3</th>\n",
       "      <td>-0.468486</td>\n",
       "      <td>0.374577</td>\n",
       "      <td>-0.625255</td>\n",
       "      <td>-0.669056</td>\n",
       "      <td>-0.875247</td>\n",
       "      <td>0.867799</td>\n",
       "      <td>-0.875595</td>\n",
       "      <td>0.986702</td>\n",
       "      <td>-1.287566</td>\n",
       "      <td>-0.457683</td>\n",
       "      <td>-0.766203</td>\n",
       "    </tr>\n",
       "    <tr>\n",
       "      <th>4</th>\n",
       "      <td>0.255840</td>\n",
       "      <td>0.374577</td>\n",
       "      <td>-0.625255</td>\n",
       "      <td>-0.669056</td>\n",
       "      <td>1.142535</td>\n",
       "      <td>-1.142327</td>\n",
       "      <td>1.142080</td>\n",
       "      <td>-0.656686</td>\n",
       "      <td>-1.287566</td>\n",
       "      <td>-3.019851</td>\n",
       "      <td>0.457767</td>\n",
       "    </tr>\n",
       "  </tbody>\n",
       "</table>\n",
       "</div>"
      ],
      "text/plain": [
       "   YearOfObservation  Insured_Period  Residential  Building_Painted  \\\n",
       "0          -0.468486        0.374577    -0.625255          1.494642   \n",
       "1           0.980167        0.374577    -0.625255         -0.669056   \n",
       "2           0.255840        0.374577    -0.625255          1.494642   \n",
       "3          -0.468486        0.374577    -0.625255         -0.669056   \n",
       "4           0.255840        0.374577    -0.625255         -0.669056   \n",
       "\n",
       "   Building_Fenced    Garden  Settlement  Building Dimension  Building_Type  \\\n",
       "0        -0.875247  0.867799   -0.875595           -1.104061      -1.287566   \n",
       "1         1.142535 -1.142327    1.142080           -0.867570      -1.287566   \n",
       "2        -0.875247  0.867799   -0.875595           -0.753090      -1.287566   \n",
       "3        -0.875247  0.867799   -0.875595            0.986702      -1.287566   \n",
       "4         1.142535 -1.142327    1.142080           -0.656686      -1.287566   \n",
       "\n",
       "   Date_of_Occupancy  NumberOfWindows  \n",
       "0          -0.457683        -0.766203  \n",
       "1          -2.742860         0.865757  \n",
       "2          -0.457683        -0.766203  \n",
       "3          -0.457683        -0.766203  \n",
       "4          -3.019851         0.457767  "
      ]
     },
     "execution_count": 25,
     "metadata": {},
     "output_type": "execute_result"
    }
   ],
   "source": [
    "data_df = pd.DataFrame(data, columns=columns)\n",
    "data = data_df\n",
    "data.head()"
   ]
  },
  {
   "cell_type": "code",
   "execution_count": 26,
   "id": "11c90ee1",
   "metadata": {},
   "outputs": [],
   "source": [
    "#Train and test datasets\n",
    "train = data[:ntrain].copy()\n",
    "test = data[ntrain:].copy()\n",
    "test = test.reset_index(drop=True)"
   ]
  },
  {
   "cell_type": "code",
   "execution_count": 27,
   "id": "ded3318d",
   "metadata": {},
   "outputs": [
    {
     "data": {
      "text/plain": [
       "YearOfObservation     0\n",
       "Insured_Period        0\n",
       "Residential           0\n",
       "Building_Painted      0\n",
       "Building_Fenced       0\n",
       "Garden                0\n",
       "Settlement            0\n",
       "Building Dimension    0\n",
       "Building_Type         0\n",
       "Date_of_Occupancy     0\n",
       "NumberOfWindows       0\n",
       "dtype: int64"
      ]
     },
     "execution_count": 27,
     "metadata": {},
     "output_type": "execute_result"
    }
   ],
   "source": [
    "train.isnull().sum()"
   ]
  },
  {
   "cell_type": "code",
   "execution_count": 28,
   "id": "22ca3d12",
   "metadata": {},
   "outputs": [
    {
     "data": {
      "text/plain": [
       "array([0, 1], dtype=int64)"
      ]
     },
     "execution_count": 28,
     "metadata": {},
     "output_type": "execute_result"
    }
   ],
   "source": [
    "y_train.unique()"
   ]
  },
  {
   "cell_type": "code",
   "execution_count": 29,
   "id": "3808e455",
   "metadata": {},
   "outputs": [
    {
     "name": "stdout",
     "output_type": "stream",
     "text": [
      "0.17964300000000044\n"
     ]
    }
   ],
   "source": [
    "# lightgbm for classifier\n",
    "start = timeit.default_timer()\n",
    "from lightgbm import LGBMClassifier\n",
    "from matplotlib import pyplot\n",
    "\n",
    "# evaluate the model\n",
    "#model = LGBMClassifier()\n",
    "# fit the model on the whole dataset\n",
    "model_lgb = LGBMClassifier()\n",
    "model_lgb.fit(train, y_train)\n",
    "y_pred_lgb = model_lgb.predict(test)\n",
    "y_pred_prob_lgb = model_lgb.predict_proba(test.values)[:,1]\n",
    "stop = timeit.default_timer()\n",
    "print(stop - start)"
   ]
  },
  {
   "cell_type": "code",
   "execution_count": 30,
   "id": "3cad939f",
   "metadata": {},
   "outputs": [
    {
     "name": "stdout",
     "output_type": "stream",
     "text": [
      "0.5884003\n"
     ]
    }
   ],
   "source": [
    "# catboost for classification\n",
    "start = timeit.default_timer()\n",
    "from catboost import CatBoostClassifier\n",
    "from matplotlib import pyplot\n",
    "# evaluate the model\n",
    "#cat_features_index = [0,1,2,3,4,5,6]\n",
    "#,cat_features= cat_features_index\n",
    "#model = CatBoostClassifier(verbose=0, n_estimators=100)\n",
    "# fit the model on the whole dataset\n",
    "model_cat = CatBoostClassifier(verbose=0, n_estimators=100)\n",
    "model_cat.fit(train, y_train)\n",
    "y_pred_cat = model_cat.predict(test)\n",
    "y_pred_prob_cat = model_cat.predict_proba(test.values)[:,1]\n",
    "stop = timeit.default_timer()\n",
    "print(stop - start)"
   ]
  },
  {
   "cell_type": "code",
   "execution_count": 31,
   "id": "c7a30a40",
   "metadata": {},
   "outputs": [
    {
     "name": "stdout",
     "output_type": "stream",
     "text": [
      "0.5418469999999997\n"
     ]
    }
   ],
   "source": [
    "# xgboost for regression\n",
    "start = timeit.default_timer()\n",
    "from xgboost import XGBClassifier\n",
    "# fit the model on the whole dataset\n",
    "model_xgb = XGBClassifier(objective='binary:logistic', use_label_encoder=False, eval_metric='mlogloss')\n",
    "model_xgb.fit(train, y_train)\n",
    "y_pred_xgb = model_xgb.predict(test)\n",
    "y_pred_prob_xgb = model_xgb.predict_proba(test.values)[:,1]\n",
    "stop = timeit.default_timer()\n",
    "print(stop - start)"
   ]
  },
  {
   "cell_type": "code",
   "execution_count": 32,
   "id": "b1bea1c5",
   "metadata": {},
   "outputs": [
    {
     "name": "stdout",
     "output_type": "stream",
     "text": [
      "1.3872240000000007\n"
     ]
    }
   ],
   "source": [
    "# make a prediction with a stacking mlxten\n",
    "start = timeit.default_timer()\n",
    "\n",
    "from sklearn.linear_model import LinearRegression\n",
    "import mlxtend\n",
    "from mlxtend.classifier import StackingClassifier\n",
    "from sklearn.linear_model import LogisticRegression\n",
    "\n",
    "# define meta learner model\n",
    "lr = LogisticRegression()\n",
    "# define the stacking ensemble\n",
    "model = StackingClassifier(classifiers=[model_lgb, model_cat, model_xgb], meta_classifier=lr)\n",
    "# fit the model on all available data\n",
    "model = model.fit(train, y_train)\n",
    "#pred = list(pred.ravel())\n",
    "#stack_result = list(stack_result.ravel())\n",
    "\n",
    "stop = timeit.default_timer()\n",
    "print(stop - start)"
   ]
  },
  {
   "cell_type": "code",
   "execution_count": 33,
   "id": "f4efe005",
   "metadata": {},
   "outputs": [
    {
     "data": {
      "text/plain": [
       "(7160, 11)"
      ]
     },
     "execution_count": 33,
     "metadata": {},
     "output_type": "execute_result"
    }
   ],
   "source": [
    "train.shape"
   ]
  },
  {
   "cell_type": "markdown",
   "id": "c99c3416",
   "metadata": {},
   "source": [
    "## Artificial Nueral Network ANN"
   ]
  },
  {
   "cell_type": "code",
   "execution_count": 34,
   "id": "5af07ce6",
   "metadata": {},
   "outputs": [
    {
     "name": "stdout",
     "output_type": "stream",
     "text": [
      "Epoch 1/100\n",
      "651/651 [==============================] - 0s 752us/step - loss: 0.6197 - accuracy: 0.7054\n",
      "Epoch 2/100\n",
      "651/651 [==============================] - 0s 768us/step - loss: 0.5145 - accuracy: 0.7718\n",
      "Epoch 3/100\n",
      "651/651 [==============================] - 1s 849us/step - loss: 0.4976 - accuracy: 0.7718\n",
      "Epoch 4/100\n",
      "651/651 [==============================] - 1s 792us/step - loss: 0.4907 - accuracy: 0.7725\n",
      "Epoch 5/100\n",
      "651/651 [==============================] - 0s 712us/step - loss: 0.4862 - accuracy: 0.7782\n",
      "Epoch 6/100\n",
      "651/651 [==============================] - 0s 763us/step - loss: 0.4831 - accuracy: 0.7806\n",
      "Epoch 7/100\n",
      "651/651 [==============================] - 1s 794us/step - loss: 0.4812 - accuracy: 0.7821\n",
      "Epoch 8/100\n",
      "651/651 [==============================] - 0s 697us/step - loss: 0.4801 - accuracy: 0.7837\n",
      "Epoch 9/100\n",
      "651/651 [==============================] - 0s 697us/step - loss: 0.4795 - accuracy: 0.7825\n",
      "Epoch 10/100\n",
      "651/651 [==============================] - 0s 725us/step - loss: 0.4797 - accuracy: 0.7832\n",
      "Epoch 11/100\n",
      "651/651 [==============================] - 0s 737us/step - loss: 0.4791 - accuracy: 0.7841\n",
      "Epoch 12/100\n",
      "651/651 [==============================] - 0s 722us/step - loss: 0.4790 - accuracy: 0.7828\n",
      "Epoch 13/100\n",
      "651/651 [==============================] - 1s 778us/step - loss: 0.4787 - accuracy: 0.7824\n",
      "Epoch 14/100\n",
      "651/651 [==============================] - 0s 700us/step - loss: 0.4784 - accuracy: 0.7831\n",
      "Epoch 15/100\n",
      "651/651 [==============================] - 0s 751us/step - loss: 0.4782 - accuracy: 0.7845\n",
      "Epoch 16/100\n",
      "651/651 [==============================] - 0s 697us/step - loss: 0.4783 - accuracy: 0.7846\n",
      "Epoch 17/100\n",
      "651/651 [==============================] - 0s 726us/step - loss: 0.4781 - accuracy: 0.7846\n",
      "Epoch 18/100\n",
      "651/651 [==============================] - 0s 703us/step - loss: 0.4775 - accuracy: 0.7837\n",
      "Epoch 19/100\n",
      "651/651 [==============================] - 0s 708us/step - loss: 0.4780 - accuracy: 0.7842\n",
      "Epoch 20/100\n",
      "651/651 [==============================] - 0s 745us/step - loss: 0.4774 - accuracy: 0.7842\n",
      "Epoch 21/100\n",
      "651/651 [==============================] - 0s 722us/step - loss: 0.4775 - accuracy: 0.7849\n",
      "Epoch 22/100\n",
      "651/651 [==============================] - 0s 743us/step - loss: 0.4774 - accuracy: 0.7845\n",
      "Epoch 23/100\n",
      "651/651 [==============================] - 1s 771us/step - loss: 0.4775 - accuracy: 0.7860\n",
      "Epoch 24/100\n",
      "651/651 [==============================] - 1s 791us/step - loss: 0.4771 - accuracy: 0.7852\n",
      "Epoch 25/100\n",
      "651/651 [==============================] - 1s 985us/step - loss: 0.4770 - accuracy: 0.7849\n",
      "Epoch 26/100\n",
      "651/651 [==============================] - 0s 737us/step - loss: 0.4769 - accuracy: 0.7838\n",
      "Epoch 27/100\n",
      "651/651 [==============================] - 1s 887us/step - loss: 0.4769 - accuracy: 0.7841\n",
      "Epoch 28/100\n",
      "651/651 [==============================] - 0s 732us/step - loss: 0.4771 - accuracy: 0.7856\n",
      "Epoch 29/100\n",
      "651/651 [==============================] - 1s 1ms/step - loss: 0.4770 - accuracy: 0.7832\n",
      "Epoch 30/100\n",
      "651/651 [==============================] - 1s 1ms/step - loss: 0.4769 - accuracy: 0.7849\n",
      "Epoch 31/100\n",
      "651/651 [==============================] - 1s 961us/step - loss: 0.4770 - accuracy: 0.7855\n",
      "Epoch 32/100\n",
      "651/651 [==============================] - 1s 853us/step - loss: 0.4766 - accuracy: 0.7851\n",
      "Epoch 33/100\n",
      "651/651 [==============================] - 1s 858us/step - loss: 0.4771 - accuracy: 0.7824\n",
      "Epoch 34/100\n",
      "651/651 [==============================] - 0s 751us/step - loss: 0.4766 - accuracy: 0.7863\n",
      "Epoch 35/100\n",
      "651/651 [==============================] - 0s 768us/step - loss: 0.4766 - accuracy: 0.7856\n",
      "Epoch 36/100\n",
      "651/651 [==============================] - 0s 692us/step - loss: 0.4768 - accuracy: 0.7851\n",
      "Epoch 37/100\n",
      "651/651 [==============================] - 0s 702us/step - loss: 0.4764 - accuracy: 0.7848\n",
      "Epoch 38/100\n",
      "651/651 [==============================] - 0s 691us/step - loss: 0.4767 - accuracy: 0.7831\n",
      "Epoch 39/100\n",
      "651/651 [==============================] - 0s 699us/step - loss: 0.4764 - accuracy: 0.7858\n",
      "Epoch 40/100\n",
      "651/651 [==============================] - 1s 786us/step - loss: 0.4767 - accuracy: 0.7851\n",
      "Epoch 41/100\n",
      "651/651 [==============================] - 0s 692us/step - loss: 0.4767 - accuracy: 0.7862\n",
      "Epoch 42/100\n",
      "651/651 [==============================] - ETA: 0s - loss: 0.4763 - accuracy: 0.78 - 1s 974us/step - loss: 0.4763 - accuracy: 0.7862\n",
      "Epoch 43/100\n",
      "651/651 [==============================] - 1s 984us/step - loss: 0.4765 - accuracy: 0.7855\n",
      "Epoch 44/100\n",
      "651/651 [==============================] - 0s 757us/step - loss: 0.4765 - accuracy: 0.7846\n",
      "Epoch 45/100\n",
      "651/651 [==============================] - 1s 850us/step - loss: 0.4763 - accuracy: 0.7845\n",
      "Epoch 46/100\n",
      "651/651 [==============================] - 1s 843us/step - loss: 0.4766 - accuracy: 0.7869\n",
      "Epoch 47/100\n",
      "651/651 [==============================] - 0s 712us/step - loss: 0.4760 - accuracy: 0.7859\n",
      "Epoch 48/100\n",
      "651/651 [==============================] - 1s 885us/step - loss: 0.4764 - accuracy: 0.7865\n",
      "Epoch 49/100\n",
      "651/651 [==============================] - 0s 758us/step - loss: 0.4762 - accuracy: 0.7844\n",
      "Epoch 50/100\n",
      "651/651 [==============================] - 0s 722us/step - loss: 0.4760 - accuracy: 0.7837\n",
      "Epoch 51/100\n",
      "651/651 [==============================] - 0s 732us/step - loss: 0.4762 - accuracy: 0.7855\n",
      "Epoch 52/100\n",
      "651/651 [==============================] - 0s 729us/step - loss: 0.4762 - accuracy: 0.7853\n",
      "Epoch 53/100\n",
      "651/651 [==============================] - 1s 810us/step - loss: 0.4763 - accuracy: 0.7860\n",
      "Epoch 54/100\n",
      "651/651 [==============================] - 0s 711us/step - loss: 0.4763 - accuracy: 0.7839\n",
      "Epoch 55/100\n",
      "651/651 [==============================] - 0s 726us/step - loss: 0.4760 - accuracy: 0.7859\n",
      "Epoch 56/100\n",
      "651/651 [==============================] - 1s 777us/step - loss: 0.4765 - accuracy: 0.7842\n",
      "Epoch 57/100\n",
      "651/651 [==============================] - 1s 882us/step - loss: 0.4762 - accuracy: 0.7851\n",
      "Epoch 58/100\n",
      "651/651 [==============================] - 0s 723us/step - loss: 0.4761 - accuracy: 0.7860\n",
      "Epoch 59/100\n",
      "651/651 [==============================] - 1s 774us/step - loss: 0.4759 - accuracy: 0.7869\n",
      "Epoch 60/100\n",
      "651/651 [==============================] - 0s 725us/step - loss: 0.4760 - accuracy: 0.7845\n",
      "Epoch 61/100\n",
      "651/651 [==============================] - 0s 760us/step - loss: 0.4760 - accuracy: 0.7849\n",
      "Epoch 62/100\n",
      "651/651 [==============================] - 1s 812us/step - loss: 0.4759 - accuracy: 0.7858\n",
      "Epoch 63/100\n",
      "651/651 [==============================] - 0s 738us/step - loss: 0.4759 - accuracy: 0.7846\n",
      "Epoch 64/100\n",
      "651/651 [==============================] - 0s 737us/step - loss: 0.4760 - accuracy: 0.7851\n",
      "Epoch 65/100\n",
      "651/651 [==============================] - 1s 849us/step - loss: 0.4759 - accuracy: 0.7859\n",
      "Epoch 66/100\n",
      "651/651 [==============================] - 1s 809us/step - loss: 0.4755 - accuracy: 0.7856\n",
      "Epoch 67/100\n",
      "651/651 [==============================] - 1s 895us/step - loss: 0.4759 - accuracy: 0.7848\n",
      "Epoch 68/100\n",
      "651/651 [==============================] - 1s 806us/step - loss: 0.4758 - accuracy: 0.7851\n",
      "Epoch 69/100\n",
      "651/651 [==============================] - 1s 928us/step - loss: 0.4757 - accuracy: 0.78340s - loss: 0.4842 - accu\n",
      "Epoch 70/100\n",
      "651/651 [==============================] - 0s 702us/step - loss: 0.4760 - accuracy: 0.7852\n",
      "Epoch 71/100\n",
      "651/651 [==============================] - 0s 726us/step - loss: 0.4755 - accuracy: 0.7860\n",
      "Epoch 72/100\n",
      "651/651 [==============================] - 1s 873us/step - loss: 0.4755 - accuracy: 0.7866\n",
      "Epoch 73/100\n",
      "651/651 [==============================] - 1s 824us/step - loss: 0.4760 - accuracy: 0.7856\n",
      "Epoch 74/100\n",
      "651/651 [==============================] - 0s 755us/step - loss: 0.4758 - accuracy: 0.7878\n",
      "Epoch 75/100\n",
      "651/651 [==============================] - 0s 745us/step - loss: 0.4751 - accuracy: 0.7852\n",
      "Epoch 76/100\n",
      "651/651 [==============================] - 0s 745us/step - loss: 0.4756 - accuracy: 0.7858\n",
      "Epoch 77/100\n",
      "651/651 [==============================] - 1s 771us/step - loss: 0.4758 - accuracy: 0.7848\n",
      "Epoch 78/100\n",
      "651/651 [==============================] - 0s 717us/step - loss: 0.4756 - accuracy: 0.7859\n",
      "Epoch 79/100\n"
     ]
    },
    {
     "name": "stdout",
     "output_type": "stream",
     "text": [
      "651/651 [==============================] - 0s 722us/step - loss: 0.4760 - accuracy: 0.7877\n",
      "Epoch 80/100\n",
      "651/651 [==============================] - 0s 722us/step - loss: 0.4752 - accuracy: 0.7845\n",
      "Epoch 81/100\n",
      "651/651 [==============================] - 1s 827us/step - loss: 0.4756 - accuracy: 0.7876\n",
      "Epoch 82/100\n",
      "651/651 [==============================] - 0s 766us/step - loss: 0.4757 - accuracy: 0.7856\n",
      "Epoch 83/100\n",
      "651/651 [==============================] - 1s 829us/step - loss: 0.4756 - accuracy: 0.7863\n",
      "Epoch 84/100\n",
      "651/651 [==============================] - 1s 791us/step - loss: 0.4756 - accuracy: 0.7856\n",
      "Epoch 85/100\n",
      "651/651 [==============================] - 1s 1ms/step - loss: 0.4750 - accuracy: 0.7869\n",
      "Epoch 86/100\n",
      "651/651 [==============================] - 1s 780us/step - loss: 0.4750 - accuracy: 0.7876\n",
      "Epoch 87/100\n",
      "651/651 [==============================] - 1s 844us/step - loss: 0.4756 - accuracy: 0.7851\n",
      "Epoch 88/100\n",
      "651/651 [==============================] - 1s 784us/step - loss: 0.4752 - accuracy: 0.7862\n",
      "Epoch 89/100\n",
      "651/651 [==============================] - 1s 818us/step - loss: 0.4755 - accuracy: 0.7863\n",
      "Epoch 90/100\n",
      "651/651 [==============================] - 1s 786us/step - loss: 0.4751 - accuracy: 0.7863\n",
      "Epoch 91/100\n",
      "651/651 [==============================] - 0s 737us/step - loss: 0.4751 - accuracy: 0.7866\n",
      "Epoch 92/100\n",
      "651/651 [==============================] - 1s 835us/step - loss: 0.4753 - accuracy: 0.7874\n",
      "Epoch 93/100\n",
      "651/651 [==============================] - 1s 974us/step - loss: 0.4754 - accuracy: 0.7837\n",
      "Epoch 94/100\n",
      "651/651 [==============================] - 1s 1ms/step - loss: 0.4756 - accuracy: 0.7853\n",
      "Epoch 95/100\n",
      "651/651 [==============================] - 1s 967us/step - loss: 0.4750 - accuracy: 0.7851\n",
      "Epoch 96/100\n",
      "651/651 [==============================] - 1s 941us/step - loss: 0.4751 - accuracy: 0.7856\n",
      "Epoch 97/100\n",
      "651/651 [==============================] - 1s 948us/step - loss: 0.4752 - accuracy: 0.7855\n",
      "Epoch 98/100\n",
      "651/651 [==============================] - 1s 950us/step - loss: 0.4753 - accuracy: 0.7852\n",
      "Epoch 99/100\n",
      "651/651 [==============================] - 1s 878us/step - loss: 0.4755 - accuracy: 0.7849\n",
      "Epoch 100/100\n",
      "651/651 [==============================] - 0s 714us/step - loss: 0.4752 - accuracy: 0.7873\n"
     ]
    },
    {
     "data": {
      "text/plain": [
       "<tensorflow.python.keras.callbacks.History at 0x1f62f80cd60>"
      ]
     },
     "execution_count": 34,
     "metadata": {},
     "output_type": "execute_result"
    }
   ],
   "source": [
    "# Importing the Keras libraries and packages\n",
    "import keras\n",
    "from keras.models import Sequential\n",
    "from keras.layers import Dense\n",
    "\n",
    "# Initialising the ANN\n",
    "classifier = Sequential()\n",
    "\n",
    "# Adding the input layer and the first hidden layer\n",
    "classifier.add(Dense(units = 5,  activation = 'relu', input_dim = 11))\n",
    "\n",
    "# Adding the second hidden layer\n",
    "classifier.add(Dense(units = 5, activation = 'relu'))\n",
    "\n",
    "# Adding the output layer\n",
    "classifier.add(Dense(units = 1, activation = 'sigmoid'))\n",
    "\n",
    "# Compiling the ANN\n",
    "classifier.compile(optimizer = 'adam', loss = 'binary_crossentropy', metrics = ['accuracy'])\n",
    "\n",
    "# Fitting the ANN to the Training set\n",
    "classifier.fit(train, y_train, batch_size = 11, epochs = 100)"
   ]
  },
  {
   "cell_type": "code",
   "execution_count": 35,
   "id": "b1e04579",
   "metadata": {},
   "outputs": [],
   "source": [
    "y_pred_ann = classifier.predict(test)"
   ]
  },
  {
   "cell_type": "code",
   "execution_count": 36,
   "id": "fb394175",
   "metadata": {},
   "outputs": [
    {
     "data": {
      "text/plain": [
       "array([[0.0872795 ],\n",
       "       [0.10897222],\n",
       "       [0.05219954],\n",
       "       ...,\n",
       "       [0.45526335],\n",
       "       [0.5323517 ],\n",
       "       [0.5070087 ]], dtype=float32)"
      ]
     },
     "execution_count": 36,
     "metadata": {},
     "output_type": "execute_result"
    }
   ],
   "source": [
    "y_pred_ann"
   ]
  },
  {
   "cell_type": "code",
   "execution_count": 37,
   "id": "4dcce189",
   "metadata": {},
   "outputs": [],
   "source": [
    "stack_result = model.predict(test)\n",
    "stack_result_prob = model.predict_proba(test.values)[:,1]"
   ]
  },
  {
   "cell_type": "code",
   "execution_count": 38,
   "id": "5e1eab71",
   "metadata": {},
   "outputs": [
    {
     "data": {
      "text/plain": [
       "array([0.13927139, 0.13927139, 0.13927139, ..., 0.13927139, 0.13927139,\n",
       "       0.13927139])"
      ]
     },
     "execution_count": 38,
     "metadata": {},
     "output_type": "execute_result"
    }
   ],
   "source": [
    "stack_result_prob"
   ]
  },
  {
   "cell_type": "code",
   "execution_count": 39,
   "id": "1dd9ba30",
   "metadata": {},
   "outputs": [],
   "source": [
    "# Using Joblib\n",
    "import joblib\n",
    "\n",
    "model_file = open(\"models/lgb_model_2.pkl\",\"wb\")\n",
    "joblib.dump(model_lgb,model_file)\n",
    "model_file.close()\n",
    "\n",
    "model_file = open(\"models/cat_model_2.pkl\",\"wb\")\n",
    "joblib.dump(model_cat,model_file)\n",
    "model_file.close()\n",
    "\n",
    "model_file = open(\"models/xgb_model_2.pkl\",\"wb\")\n",
    "joblib.dump(model_xgb,model_file)\n",
    "model_file.close()\n",
    "\n",
    "model_file = open(\"models/stack_model_2.pkl\",\"wb\")\n",
    "joblib.dump(model,model_file)\n",
    "model_file.close()"
   ]
  },
  {
   "cell_type": "code",
   "execution_count": 40,
   "id": "25527845",
   "metadata": {},
   "outputs": [
    {
     "data": {
      "text/plain": [
       "Index(['Customer Id', 'YearOfObservation', 'Insured_Period', 'Residential',\n",
       "       'Building_Painted', 'Building_Fenced', 'Garden', 'Settlement',\n",
       "       'Building Dimension', 'Building_Type', 'Date_of_Occupancy',\n",
       "       'NumberOfWindows', 'Geo_Code'],\n",
       "      dtype='object')"
      ]
     },
     "execution_count": 40,
     "metadata": {},
     "output_type": "execute_result"
    }
   ],
   "source": [
    "test_data.columns"
   ]
  },
  {
   "cell_type": "code",
   "execution_count": 41,
   "id": "d87b2f08",
   "metadata": {},
   "outputs": [],
   "source": [
    "index = test_data['Customer Id']"
   ]
  },
  {
   "cell_type": "code",
   "execution_count": 42,
   "id": "f6f4f31c",
   "metadata": {},
   "outputs": [],
   "source": [
    "#result = pd.concat((index, stack_result),sort=False).reset_index(drop=False)"
   ]
  },
  {
   "cell_type": "code",
   "execution_count": 43,
   "id": "4aabcfa0",
   "metadata": {},
   "outputs": [],
   "source": [
    "Submission1 = pd.DataFrame(stack_result_prob, columns=['Claim']).to_csv('datasets/Submission_Claim.csv')"
   ]
  },
  {
   "cell_type": "code",
   "execution_count": 44,
   "id": "248a1ae9",
   "metadata": {},
   "outputs": [],
   "source": [
    "pd.DataFrame(y_pred_ann, columns=['Claim']).to_csv('datasets/Submission_Claim_ann.csv')"
   ]
  },
  {
   "cell_type": "code",
   "execution_count": null,
   "id": "8be7181c",
   "metadata": {},
   "outputs": [],
   "source": []
  }
 ],
 "metadata": {
  "kernelspec": {
   "display_name": "Python 3 (ipykernel)",
   "language": "python",
   "name": "python3"
  },
  "language_info": {
   "codemirror_mode": {
    "name": "ipython",
    "version": 3
   },
   "file_extension": ".py",
   "mimetype": "text/x-python",
   "name": "python",
   "nbconvert_exporter": "python",
   "pygments_lexer": "ipython3",
   "version": "3.8.11"
  }
 },
 "nbformat": 4,
 "nbformat_minor": 5
}
